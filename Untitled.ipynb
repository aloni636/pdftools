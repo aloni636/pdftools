{
 "cells": [
  {
   "cell_type": "code",
   "execution_count": 1,
   "id": "1f97ebad-eeb6-4440-9d54-098b9251cf41",
   "metadata": {
    "tags": []
   },
   "outputs": [],
   "source": [
    "import abc"
   ]
  },
  {
   "cell_type": "code",
   "execution_count": 2,
   "id": "5ed326e2-e6da-4a55-bfa3-8b6edecd6d80",
   "metadata": {
    "tags": []
   },
   "outputs": [
    {
     "data": {
      "text/plain": [
       "\u001b[0;31mType:\u001b[0m        module\n",
       "\u001b[0;31mString form:\u001b[0m <module 'abc' from '/usr/lib/python3.10/abc.py'>\n",
       "\u001b[0;31mFile:\u001b[0m        /usr/lib/python3.10/abc.py\n",
       "\u001b[0;31mDocstring:\u001b[0m   Abstract Base Classes (ABCs) according to PEP 3119."
      ]
     },
     "metadata": {},
     "output_type": "display_data"
    }
   ],
   "source": [
    "abc?"
   ]
  },
  {
   "cell_type": "code",
   "execution_count": null,
   "id": "b519e73c-146c-4ca8-9d9a-c13704205b12",
   "metadata": {},
   "outputs": [],
   "source": []
  }
 ],
 "metadata": {
  "kernelspec": {
   "display_name": "pdftools",
   "language": "python",
   "name": "pdftools"
  },
  "language_info": {
   "codemirror_mode": {
    "name": "ipython",
    "version": 3
   },
   "file_extension": ".py",
   "mimetype": "text/x-python",
   "name": "python",
   "nbconvert_exporter": "python",
   "pygments_lexer": "ipython3",
   "version": "3.10.6"
  }
 },
 "nbformat": 4,
 "nbformat_minor": 5
}
